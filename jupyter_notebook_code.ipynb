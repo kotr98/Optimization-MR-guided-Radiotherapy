{
 "cells": [
  {
   "cell_type": "markdown",
   "metadata": {
    "scrolled": false
   },
   "source": [
    "## Importing Packages"
   ]
  },
  {
   "cell_type": "code",
   "execution_count": null,
   "metadata": {},
   "outputs": [],
   "source": [
    "import numpy as np\n",
    "import matplotlib.pyplot as plt\n",
    "import scipy\n",
    "from scipy.interpolate import interpn\n",
    "from scipy import ndimage\n",
    "from sklearn.decomposition import PCA\n",
    "import time\n",
    "import multiprocessing as mp\n",
    "import SimpleITK as sitk\n",
    "import raster_geometry"
   ]
  },
  {
   "cell_type": "markdown",
   "metadata": {},
   "source": [
    "## Defining Functions"
   ]
  },
  {
   "cell_type": "code",
   "execution_count": null,
   "metadata": {},
   "outputs": [],
   "source": [
    "def func(x,y,z):\n",
    "    '''This function interpolates the discrete data into continous data'''\n",
    "    x1,y1,z1 = np.arange(image_data.shape[0]),np.arange(image_data.shape[1]),np.arange(image_data.shape[2])\n",
    "    sample_at = [x,y,z]\n",
    "    d=scipy.interpolate.interpn((x1,y1,z1),image_data,sample_at,method=\"nearest\")\n",
    "    return d\n",
    "\n",
    "\n",
    "def getPointOnPlane(s,t,u,v,w):\n",
    "    '''This function creates the coordinates for a point with given vectors'''\n",
    "    point=com+w+s*u+t*v\n",
    "    return point\n",
    "\n",
    "def getArea(u,v,s,slim):\n",
    "    '''This function calculates the proportional area with given vectors'''\n",
    "    area=0\n",
    "    vec=np.cross(u,v)\n",
    "    \n",
    "    par=0.1 \n",
    "    \n",
    "    w=par*vec\n",
    "                        \n",
    "    for t in range(-slim,slim):\n",
    "        try:            \n",
    "            i=getPointOnPlane(s,t,u,v,w)\n",
    "            j=getPointOnPlane(s,t,u,v,-w)\n",
    "            \n",
    "            if(func(i[0],i[1],i[2])==0 and func(j[0],j[1],j[2])==0):\n",
    "                k=0\n",
    "            else:\n",
    "                k=1\n",
    "        except:\n",
    "            k=0\n",
    "        area=area+k\n",
    "    return area\n",
    "\n",
    "\n",
    "def RotN(vec,x):\n",
    "    '''Defining rotation matrix'''\n",
    "    y= x*np.pi/180\n",
    "    T=np.array([[vec[0]*vec[0]*(1-np.cos(y))+np.cos(y),vec[0]*vec[1]*(1-np.cos(y))-vec[2]*np.sin(y),vec[0]*vec[2]*(1-np.cos(y))+vec[1]*np.sin(y)],\n",
    "                [vec[1]*vec[0]*(1-np.cos(y))+vec[2]*np.sin(y),vec[1]*vec[1]*(1-np.cos(y))+np.cos(y),vec[1]*vec[2]*(1-np.cos(y))-vec[0]*np.sin(y)],\n",
    "                [vec[2]*vec[0]*(1-np.cos(y))-vec[1]*np.sin(y),vec[2]*vec[1]*(1-np.cos(y))+vec[0]*np.sin(y),vec[2]*vec[2]*(1-np.cos(y))+np.cos(y)]])\n",
    "    return T\n",
    "\n",
    "\n",
    "def pcascipy(data):\n",
    "    '''Function that returns pca components'''\n",
    "    pos=np.where(image_data==1)\n",
    "    dummy=np.array([[pos[0][i],pos[1][i],pos[2][i]]for i in range(len(pos[0]))])\n",
    "    pca=PCA()\n",
    "    pca.fit(dummy)\n",
    "    return pca.explained_variance_,pca.components_\n",
    "\n",
    "\n",
    "def normvec(vec):\n",
    "    '''Calculates the perpendicular vector'''\n",
    "    T=np.array([[1.074,0,0],[0,1.074,0],[0,0,3]])\n",
    "    vec_trans=np.dot(T,vec)\n",
    "    vec_trans_norm=vec_trans/np.linalg.norm(vec_trans)\n",
    "    T1=np.linalg.inv(T)\n",
    "    return np.dot(T1,vec_trans_norm)  \n",
    "\n",
    "def get2dArray(u,v):\n",
    "    '''Creates array for the cross section image'''\n",
    "    a=np.array([])\n",
    "    w=np.array([0,0,0])\n",
    "    \n",
    "    for s in range(-20,20):\n",
    "        for t in range(-20,20):\n",
    "            try:\n",
    "                i=getPointOnPlane(s,t,u,v,w)\n",
    "                b=func(i[0],i[1],i[2])\n",
    "            except:\n",
    "                b=0\n",
    "            a=np.append(a,b)\n",
    "    return a\n",
    "\n",
    "def rescale(vec):\n",
    "    '''Transforms data in physical space'''\n",
    "    T=np.array([[1.074,0,0],[0,1.074,0],[0,0,3]])\n",
    "    return T.dot(vec)"
   ]
  },
  {
   "cell_type": "markdown",
   "metadata": {},
   "source": [
    "## Imports union data, rescales and cuts with bounding box"
   ]
  },
  {
   "cell_type": "code",
   "execution_count": null,
   "metadata": {},
   "outputs": [],
   "source": [
    "image = sitk.ReadImage(\"Union.mha\") \n",
    "image_data = sitk.GetArrayFromImage(image)\n",
    "image_data = np.transpose(image_data, (2, 1, 0))\n",
    "comalt=np.array(ndimage.measurements.center_of_mass(image_data))\n",
    "pos = np.where(image_data==1)\n",
    "\n",
    "pos=rescale(pos)\n",
    "pos=np.around(pos) \n",
    "pos=pos.astype(int)\n",
    "mask = np.zeros((800,800,800), dtype='int')\n",
    "for i in range(len(pos[0])):\n",
    "    mask[pos[0][i],pos[1][i],pos[2][i]]=1\n",
    "image_data=mask\n",
    "\n",
    "image_data=scipy.ndimage.morphology.binary_closing(image_data,structure=raster_geometry.sphere(5,3)).astype(int)\n",
    "\n",
    "img_out = sitk.GetImageFromArray(image_data)\n",
    "stats=sitk.LabelShapeStatisticsImageFilter()\n",
    "stats.Execute(img_out)\n",
    "boundingBox = np.array(stats.GetBoundingBox(1))\n",
    "image_data=image_data[boundingBox[2]:boundingBox[2]+boundingBox[5],boundingBox[1]:boundingBox[1]+boundingBox[4],boundingBox[0]:boundingBox[0]+boundingBox[3]]"
   ]
  },
  {
   "cell_type": "markdown",
   "metadata": {},
   "source": [
    "## Imports different artificial volumes"
   ]
  },
  {
   "cell_type": "code",
   "execution_count": null,
   "metadata": {},
   "outputs": [],
   "source": [
    "image_data= raster_geometry.ellipsoid(50,(5,5,20))"
   ]
  },
  {
   "cell_type": "code",
   "execution_count": null,
   "metadata": {},
   "outputs": [],
   "source": [
    "image_data= raster_geometry.ellipsoid(50,(20,10,10)).astype(\"int\")\n",
    "img_rot = sitk.GetImageFromArray(image_data)\n",
    "transform = sitk.VersorTransform((1,1,1), np.pi)\n",
    "outimage=sitk.Resample(img_rot,transform)\n",
    "image_data=sitk.GetArrayFromImage(outimage)"
   ]
  },
  {
   "cell_type": "code",
   "execution_count": null,
   "metadata": {},
   "outputs": [],
   "source": [
    "image_data= raster_geometry.cuboid(20,(5,10,5))"
   ]
  },
  {
   "cell_type": "markdown",
   "metadata": {},
   "source": [
    "## The actual iteration to find the maximal plane "
   ]
  },
  {
   "cell_type": "code",
   "execution_count": null,
   "metadata": {},
   "outputs": [],
   "source": [
    "com = np.array(ndimage.measurements.center_of_mass(image_data))\n",
    "pca1=pcascipy(image_data)\n",
    "arr2=[]\n",
    "arrw=[]\n",
    "arru=[]\n",
    "\n",
    "start = time.time()\n",
    "\n",
    "for i in range(-45,46,9):\n",
    "    for j in range(-45,46,9):\n",
    "        for k in range(0,181,10):\n",
    "            w=pca1[1][np.argsort(pca1[0])[2]]\n",
    "            u=pca1[1][np.argsort(pca1[0])[1]]\n",
    "            v=pca1[1][np.argsort(pca1[0])[0]]\n",
    "\n",
    "            \n",
    "            w=RotN(u,i).dot(w) \n",
    "            u=RotN(u,i).dot(u) \n",
    "            v=RotN(u,i).dot(v)\n",
    "            \n",
    "            w=RotN(v,j).dot(w) \n",
    "            u=RotN(v,j).dot(u) \n",
    "            v=RotN(v,j).dot(v)\n",
    "                   \n",
    "            \n",
    "            w=RotN(w,k).dot(w)\n",
    "            u=RotN(w,k).dot(u)\n",
    "            v=RotN(w,k).dot(v)\n",
    "            \n",
    "            pool = mp.Pool(mp.cpu_count())\n",
    "            results = pool.starmap(getArea, [(w, u, s,20) for s in range(-20,20)]) \n",
    "            results2=sum(results)\n",
    "            pool.close()        \n",
    "            arr2.append(results2)\n",
    "            arrw.append(w)\n",
    "            arru.append(u)\n",
    "print(arr2)\n",
    "end = time.time()\n",
    "final = end - start\n",
    "print(final,\"Sekunden\")\n",
    "print(\"Maximaler Flächeninhalt ist\",arr2[np.argmax(arr2)],\"mit Vektoren: w=\",arrw[np.argmax(arr2)],\"und u=\",arru[np.argmax(arr2)],\"p=\",com)"
   ]
  },
  {
   "cell_type": "markdown",
   "metadata": {},
   "source": [
    "## Plots the cross-sectional areas"
   ]
  },
  {
   "cell_type": "code",
   "execution_count": null,
   "metadata": {},
   "outputs": [],
   "source": [
    "x3=np.arange(len(arr2))\n",
    "y3=arr2\n",
    "plt.plot(x3,y3,c=\"black\",marker=\"x\",linestyle=\"-\")\n",
    "plt.ylabel(\"Area\")\n",
    "plt.xlabel(\"Plane Index\")\n",
    "plt.savefig(\"areaplot_cuboid.png\")"
   ]
  },
  {
   "cell_type": "markdown",
   "metadata": {},
   "source": [
    "## Plots cross-section"
   ]
  },
  {
   "cell_type": "code",
   "execution_count": null,
   "metadata": {
    "scrolled": true
   },
   "outputs": [],
   "source": [
    "u=arru[np.argmax(arr2)]\n",
    "v=arrw[np.argmax(arr2)]\n",
    "c=get2dArray(u,v)\n",
    "c=c.reshape(40,40)\n",
    "plt.imshow(c, interpolation='nearest',cmap='binary')\n",
    "plt.ylim(0,40)\n",
    "plt.xlim(0,40)\n",
    "plt.savefig(\"cuboid_Cross-Section.png\")"
   ]
  },
  {
   "cell_type": "markdown",
   "metadata": {},
   "source": [
    "## Plotting 3d points and maximal plane via normal vector"
   ]
  },
  {
   "cell_type": "code",
   "execution_count": null,
   "metadata": {
    "scrolled": true
   },
   "outputs": [],
   "source": [
    "x, y = np.mgrid[range(int(com[0])-50,int(com[0])+50), range(int(com[1])-50,int(com[1])+50)]\n",
    "point  = com\n",
    "normal = np.cross(arru[np.argmax(arr2)],arrv[np.argmax(arr2)])\n",
    "d=-point.dot(normal)\n",
    "z = (-normal[0] * x - normal[1] * y - d) * 1. /normal[2]\n",
    "pos = np.where(image_data==1)\n",
    "from mayavi.mlab import *\n",
    "from mayavi import mlab\n",
    "mlab.clf()\n",
    "mlab.points3d(pos[0], pos[1], pos[2],color=(0.1,0.1,0.1),scale_factor=1)\n",
    "mlab.surf(x,y,z,color=(1,1,1))\n",
    "mlab.show()"
   ]
  },
  {
   "cell_type": "code",
   "execution_count": null,
   "metadata": {},
   "outputs": [],
   "source": [
    "from mayavi.mlab import *\n",
    "from mayavi import mlab"
   ]
  },
  {
   "cell_type": "markdown",
   "metadata": {},
   "source": [
    "## Plotting vectors which are used for the iteration"
   ]
  },
  {
   "cell_type": "code",
   "execution_count": null,
   "metadata": {
    "scrolled": true
   },
   "outputs": [],
   "source": [
    "pca1=pcascipy(image_data)\n",
    "u=pca1[1][np.argsort(pca1[0])[1]]\n",
    "v=pca1[1][np.argsort(pca1[0])[0]]\n",
    "w=pca1[1][np.argsort(pca1[0])[2]]\n",
    "com = np.array(ndimage.measurements.center_of_mass(image_data))\n",
    "pos=np.where(image_data==1)\n",
    "\n",
    "\n",
    "mlab.clf()\n",
    "mlab.points3d(pos[0], pos[1], pos[2],color=(0.1,0.1,0.1),scale_factor=1.0)\n",
    "for i in range(-15,16,5):\n",
    "    for j in range(-15,16,5):\n",
    "        for k in range(0,181,20):\n",
    "            w=pca1[1][np.argsort(pca1[0])[2]]\n",
    "            u=pca1[1][np.argsort(pca1[0])[1]]\n",
    "            v=pca1[1][np.argsort(pca1[0])[0]]\n",
    "\n",
    "            \n",
    "            w=RotN(u,i).dot(w) \n",
    "            u=RotN(u,i).dot(u) \n",
    "            v=RotN(u,i).dot(v)\n",
    "            \n",
    "            w=RotN(v,j).dot(w) \n",
    "            u=RotN(v,j).dot(u) \n",
    "            v=RotN(v,j).dot(v)\n",
    "                   \n",
    "            \n",
    "            w=RotN(w,k).dot(w)\n",
    "            u=RotN(w,k).dot(u)\n",
    "            v=RotN(w,k).dot(v)\n",
    "            \n",
    "            \n",
    "            mlab.quiver3d(com[0],com[1],com[2],w[0],w[1],w[2],scale_factor=30.0)\n",
    "            mlab.quiver3d(com[0],com[1],com[2],u[0],u[1],u[2],scale_factor=30.0,color=(1,1,1))\n",
    "\n",
    "        \n",
    "\n",
    "mlab.show()"
   ]
  },
  {
   "cell_type": "markdown",
   "metadata": {},
   "source": [
    "## Plotting 3d points + the three principal components"
   ]
  },
  {
   "cell_type": "code",
   "execution_count": null,
   "metadata": {},
   "outputs": [],
   "source": [
    "pca1=pcascipy(image_data)\n",
    "com = np.array(ndimage.measurements.center_of_mass(image_data))\n",
    "pos=np.where(image_data==1)\n",
    "\n",
    "mlab.clf()\n",
    "mlab.points3d(pos[0], pos[1], pos[2],color=(0.1,0.1,0.1),scale_factor=1.0)\n",
    "u=pca1[1][np.argsort(pca1[0])[1]] \n",
    "v=pca1[1][np.argsort(pca1[0])[0]]\n",
    "w=pca1[1][np.argsort(pca1[0])[2]] \n",
    "mlab.quiver3d(com[0],com[1],com[2],u[0],u[1],u[2],scale_factor=10.0,color=(1,1,1)) #weiß\n",
    "mlab.quiver3d(com[0],com[1],com[2],v[0],v[1],v[2],scale_factor=10.0,color=(0.75,0.75,0.75)) #grau\n",
    "mlab.quiver3d(com[0],com[1],com[2],w[0],w[1],w[2],scale_factor=10.0) #rot\n",
    "mlab.view(focalpoint=com)\n",
    "mlab.show()"
   ]
  },
  {
   "cell_type": "markdown",
   "metadata": {},
   "source": [
    "## Plotting the maximal plane + 3d points"
   ]
  },
  {
   "cell_type": "code",
   "execution_count": null,
   "metadata": {},
   "outputs": [],
   "source": [
    "#maximale ebene zeichner\n",
    "pca1=pcascipy(image_data)\n",
    "w=pca1[1][np.argsort(pca1[0])[2]]\n",
    "com = np.array(ndimage.measurements.center_of_mass(image_data))\n",
    "x, y = np.mgrid[range(int(com[0])-50,int(com[0])+50), range(int(com[1])-50,int(com[1])+50)]\n",
    "point  = com\n",
    "u=arrw[np.argmax(arr2)]\n",
    "v=arru[np.argmax(arr2)]\n",
    "normal = np.cross(u,v)\n",
    "d=-point.dot(normal)\n",
    "z = (-normal[0] * x - normal[1] * y - d) * 1. /normal[2]\n",
    "pos = np.where(image_data==1)\n",
    "\n",
    "mlab.clf()\n",
    "mlab.points3d(pos[0], pos[1], pos[2],color=(0.1,0.1,0.1),scale_factor=1)\n",
    "mlab.surf(x,y,z,color=(1,1,1))\n",
    "mlab.view(focalpoint=com)\n",
    "mlab.show()"
   ]
  }
 ],
 "metadata": {
  "kernelspec": {
   "display_name": "Python 3",
   "language": "python",
   "name": "python3"
  },
  "language_info": {
   "codemirror_mode": {
    "name": "ipython",
    "version": 3
   },
   "file_extension": ".py",
   "mimetype": "text/x-python",
   "name": "python",
   "nbconvert_exporter": "python",
   "pygments_lexer": "ipython3",
   "version": "3.8.3"
  }
 },
 "nbformat": 4,
 "nbformat_minor": 4
}
